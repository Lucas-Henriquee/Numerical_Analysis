{
 "cells": [
  {
   "cell_type": "markdown",
   "metadata": {},
   "source": [
    "Integrantes:    Breno Montanha Costa\n",
    "                Lucas Henrique Nogueira\n",
    "\n",
    "Sacarose -> Glicose + Frutose -> Acidos e Furfurais\n",
    "dC1/dt = −γ1C1\n",
    "dC2/dt = γ1C1 − γ2C2\n",
    "dC3/dt = γ2C2\n",
    "\n",
    "Com \n",
    "    C1 = 10 mol \n",
    "    C2 = 0  mol\n",
    "    C3 = 0  mol\n",
    "\n",
    "    y1 = 0.1/min\n",
    "    y2 = 0.01/min\n",
    "\n",
    "    HCl(pH=1)\n",
    "    Temperatura de 90°"
   ]
  },
  {
   "cell_type": "code",
   "execution_count": null,
   "metadata": {
    "vscode": {
     "languageId": "plaintext"
    }
   },
   "outputs": [],
   "source": [
    "from scipy.optimize import fsolve\n",
    "import numpy as np\n",
    "import matplotlib.pyplot as plt"
   ]
  },
  {
   "cell_type": "code",
   "execution_count": null,
   "metadata": {
    "vscode": {
     "languageId": "plaintext"
    }
   },
   "outputs": [],
   "source": [
    "C1_initial = 10\n",
    "C2_initial = 0\n",
    "C3_initial = 0\n",
    "\n",
    "y1 = 0.1\n",
    "y2 = 0.01\n",
    "\n",
    "def C1_f(C1_ant, C2_ant, C3_ant, t):\n",
    "    return -y1 * C1_ant\n",
    "\n",
    "def C2_f(C1_ant, C2_ant, C3_ant, t):\n",
    "    return y1 * C1_ant -y2 * C2_ant\n",
    "\n",
    "def C3_f(C1_ant, C2_ant, C3_ant, t):\n",
    "    return y2 * C2_ant"
   ]
  },
  {
   "cell_type": "code",
   "execution_count": null,
   "metadata": {
    "vscode": {
     "languageId": "plaintext"
    }
   },
   "outputs": [],
   "source": [
    "def Euler_explicit(C1_0, C2_0, C3_0, t, h):\n",
    "    C1 = np.zeros(len(t))\n",
    "    C2 = np.zeros(len(t))\n",
    "    C3 = np.zeros(len(t))\n",
    "    C1[0] = C1_initial\n",
    "    C2[0] = C2_initial\n",
    "    C3[0] = C3_initial\n",
    "    for i in range(len(t)-1):\n",
    "        C1[i+1] = C1[i] + h*C1_f(C1[i], C2[i], C3[i], t)\n",
    "        C2[i+1] = C2[i] + h*C2_f(C1[i], C2[i], C3[i], t)\n",
    "        C3[i+1] = C3[i] + h*C3_f(C1[i], C2[i], C3[i], t)\n",
    "    return C1, C2, C3"
   ]
  },
  {
   "cell_type": "code",
   "execution_count": null,
   "metadata": {
    "vscode": {
     "languageId": "plaintext"
    }
   },
   "outputs": [],
   "source": [
    "def RK4(C1_0, C2_0, C3_0, t, h):\n",
    "    C1 = np.zeros(len(t))\n",
    "    C2 = np.zeros(len(t))\n",
    "    C3 = np.zeros(len(t))\n",
    "    C1[0] = C1_initial\n",
    "    C2[0] = C2_initial\n",
    "    C3[0] = C3_initial\n",
    "    for i in range(len(t)-1):\n",
    "        k1_C1 = C1[i]\n",
    "        k1_C2 = C2[i]"
   ]
  },
  {
   "cell_type": "code",
   "execution_count": null,
   "metadata": {
    "vscode": {
     "languageId": "plaintext"
    }
   },
   "outputs": [],
   "source": [
    "def Adams_bashforth(C1_0, C2_0, C3_0, t, h):\n",
    "    C1 = np.zeros(len(t))\n",
    "    C2 = np.zeros(len(t))\n",
    "    C3 = np.zeros(len(t))\n",
    "    C1[0] = C1_initial\n",
    "    C2[0] = C2_initial\n",
    "    C3[0] = C3_initial\n",
    "    for i in range(len(t)-1):\n",
    "        "
   ]
  },
  {
   "cell_type": "code",
   "execution_count": null,
   "metadata": {
    "vscode": {
     "languageId": "plaintext"
    }
   },
   "outputs": [],
   "source": [
    "def Adams_moulton(C1_0, C2_0, C3_0, t, h):\n",
    "    C1 = np.zeros(len(t))\n",
    "    C2 = np.zeros(len(t))\n",
    "    C3 = np.zeros(len(t))\n",
    "    C1[0] = C1_initial\n",
    "    C2[0] = C2_initial\n",
    "    C3[0] = C3_initial\n",
    "    for i in range(len(t)-1):\n",
    "        "
   ]
  },
  {
   "cell_type": "code",
   "execution_count": null,
   "metadata": {
    "vscode": {
     "languageId": "plaintext"
    }
   },
   "outputs": [],
   "source": [
    "t = np.arrange(0, 1000, 1)\n",
    "h = 1\n",
    "\n",
    "C1_euler, C2_euler, C3_euler = Euler_explicit(C1_initial, C2_initial, C3_initial, t, h)\n",
    "C1_RK4, C2_RK4, C3_RK4 = RK4(C1_initial, C2_initial, C3_initial, t, h)\n",
    "C1_AdamsB, C2_AdamsB, C3_AdamsB = Adams_bashforth(C1_initial, C2_initial, C3_initial, t, h)\n",
    "C1_AdamsM, C2_AdamsM, C3_AdamsM = Adams_moulton(C1_initial, C2_initial, C3_initial, t, h)"
   ]
  }
 ],
 "metadata": {
  "language_info": {
   "name": "python"
  }
 },
 "nbformat": 4,
 "nbformat_minor": 2
}
